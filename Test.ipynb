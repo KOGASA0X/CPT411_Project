{
 "cells": [
  {
   "cell_type": "code",
   "execution_count": 1,
   "metadata": {},
   "outputs": [
    {
     "data": {
      "text/plain": [
       "'moore_machine.png'"
      ]
     },
     "execution_count": 1,
     "metadata": {},
     "output_type": "execute_result"
    }
   ],
   "source": [
    "from graphviz import Digraph\n",
    "\n",
    "dot = Digraph(comment='Moore Machine')\n",
    "\n",
    "dot.node('Q0', 'Q0\\ngrrGGGGrgrrrrrrgrrGGGGrgrrrrrrrrrr')\n",
    "dot.node('Q1', 'Q1\\ngrryGGGrgrrrrrrgrryGGGrgrrrrrrrrrr')\n",
    "dot.node('Q2', 'Q2\\ngGrrGGGrgrrrrrrgGrrGGGrgrrrrrrrGrG')\n",
    "dot.node('Q3', 'Q3\\ngrrryyyrgrrrrrrgrrryyyrgrrrrrrrrrr')\n",
    "dot.node('Q4', 'Q4\\ngrrGrrrGgrrGrrrgrrGrrrGgrrGrrrrrrr')\n",
    "dot.node('Q5', 'Q5\\ngrryrrrygrrGrrrgrryrrrygrrGrrrrrrr')\n",
    "dot.node('Q6', 'Q6\\ngrrrrrrrgrrGGGrgrrrrrrrgrrGGGrrrrr')\n",
    "dot.node('Q7', 'Q7\\ngrrrrrrrgrryGGrgrrrrrrrgrryGGrrrrr')\n",
    "dot.node('Q8', 'Q8\\ngrrrrrrrgGrrGGrgrrrrrrrgGrrGGrGrGr')\n",
    "dot.node('Q9', 'Q9\\ngrrrrrrrgrrryyrgrrrrrrrgrrryyrrrrr')\n",
    "dot.node('Q10', 'Q10\\ngrrGrrrrgrrGrrGgrrGrrrrgrrGrrGrrrr')\n",
    "dot.node('Q11', 'Q11\\ngrrGrrrrgrryrrygrrGrrrrgrryrryrrrr')\n",
    "\n",
    "dot.edge('Q0', 'Q1', label='tick(60)')\n",
    "dot.edge('Q1', 'Q2', label='tick(3)')\n",
    "dot.edge('Q2', 'Q3', label='tick(120)')\n",
    "dot.edge('Q3', 'Q4', label='tick(3)')\n",
    "dot.edge('Q4', 'Q5', label='tick(90)')\n",
    "dot.edge('Q5', 'Q6', label='tick(3)')\n",
    "dot.edge('Q6', 'Q7', label='tick(60)')\n",
    "dot.edge('Q7', 'Q8', label='tick(3)')\n",
    "dot.edge('Q8', 'Q9', label='tick(120)')\n",
    "dot.edge('Q9', 'Q10', label='tick(3)')\n",
    "dot.edge('Q10', 'Q11', label='tick(90)')\n",
    "dot.edge('Q11', 'Q0', label='tick(3)')\n",
    "\n",
    "dot.render('moore_machine', format='png', view=True)\n"
   ]
  }
 ],
 "metadata": {
  "kernelspec": {
   "display_name": "Python 3",
   "language": "python",
   "name": "python3"
  },
  "language_info": {
   "codemirror_mode": {
    "name": "ipython",
    "version": 3
   },
   "file_extension": ".py",
   "mimetype": "text/x-python",
   "name": "python",
   "nbconvert_exporter": "python",
   "pygments_lexer": "ipython3",
   "version": "3.11.1"
  }
 },
 "nbformat": 4,
 "nbformat_minor": 2
}
